{
 "cells": [
  {
   "cell_type": "code",
   "execution_count": 4,
   "id": "307f9ffc",
   "metadata": {},
   "outputs": [
    {
     "ename": "ModuleNotFoundError",
     "evalue": "No module named 'yfinance'",
     "output_type": "error",
     "traceback": [
      "\u001b[0;31m---------------------------------------------------------------------------\u001b[0m",
      "\u001b[0;31mModuleNotFoundError\u001b[0m                       Traceback (most recent call last)",
      "\u001b[0;32m<ipython-input-4-d716011b5664>\u001b[0m in \u001b[0;36m<module>\u001b[0;34m\u001b[0m\n\u001b[0;32m----> 1\u001b[0;31m \u001b[0;32mimport\u001b[0m \u001b[0myfinance\u001b[0m\u001b[0;34m\u001b[0m\u001b[0;34m\u001b[0m\u001b[0m\n\u001b[0m",
      "\u001b[0;31mModuleNotFoundError\u001b[0m: No module named 'yfinance'"
     ]
    }
   ],
   "source": []
  },
  {
   "cell_type": "code",
   "execution_count": 1,
   "id": "f6c796f8",
   "metadata": {},
   "outputs": [
    {
     "name": "stdout",
     "output_type": "stream",
     "text": [
      "Requirement already satisfied: yfinance in /Users/batuhanertas/opt/anaconda3/lib/python3.8/site-packages (0.1.64)\r\n",
      "Requirement already satisfied: lxml>=4.5.1 in /Users/batuhanertas/opt/anaconda3/lib/python3.8/site-packages (from yfinance) (4.6.3)\r\n",
      "Requirement already satisfied: multitasking>=0.0.7 in /Users/batuhanertas/opt/anaconda3/lib/python3.8/site-packages (from yfinance) (0.0.9)\r\n",
      "Requirement already satisfied: pandas>=0.24 in /Users/batuhanertas/opt/anaconda3/lib/python3.8/site-packages (from yfinance) (1.2.4)\r\n",
      "Requirement already satisfied: numpy>=1.15 in /Users/batuhanertas/opt/anaconda3/lib/python3.8/site-packages (from yfinance) (1.20.1)\r\n",
      "Requirement already satisfied: requests>=2.20 in /Users/batuhanertas/opt/anaconda3/lib/python3.8/site-packages (from yfinance) (2.25.1)\r\n",
      "Requirement already satisfied: python-dateutil>=2.7.3 in /Users/batuhanertas/opt/anaconda3/lib/python3.8/site-packages (from pandas>=0.24->yfinance) (2.8.1)\r\n",
      "Requirement already satisfied: pytz>=2017.3 in /Users/batuhanertas/opt/anaconda3/lib/python3.8/site-packages (from pandas>=0.24->yfinance) (2021.1)\r\n",
      "Requirement already satisfied: six>=1.5 in /Users/batuhanertas/opt/anaconda3/lib/python3.8/site-packages (from python-dateutil>=2.7.3->pandas>=0.24->yfinance) (1.15.0)\r\n",
      "Requirement already satisfied: certifi>=2017.4.17 in /Users/batuhanertas/opt/anaconda3/lib/python3.8/site-packages (from requests>=2.20->yfinance) (2020.12.5)\r\n",
      "Requirement already satisfied: chardet<5,>=3.0.2 in /Users/batuhanertas/opt/anaconda3/lib/python3.8/site-packages (from requests>=2.20->yfinance) (4.0.0)\r\n",
      "Requirement already satisfied: idna<3,>=2.5 in /Users/batuhanertas/opt/anaconda3/lib/python3.8/site-packages (from requests>=2.20->yfinance) (2.10)\r\n",
      "Requirement already satisfied: urllib3<1.27,>=1.21.1 in /Users/batuhanertas/opt/anaconda3/lib/python3.8/site-packages (from requests>=2.20->yfinance) (1.26.4)\r\n"
     ]
    }
   ],
   "source": [
    "!pip install yfinance"
   ]
  },
  {
   "cell_type": "code",
   "execution_count": 2,
   "id": "c2208c9e",
   "metadata": {},
   "outputs": [],
   "source": [
    "import yfinance as yf\n",
    "import pandas as pd\n",
    "from datetime import datetime, timedelta"
   ]
  },
  {
   "cell_type": "code",
   "execution_count": 3,
   "id": "2162a15b",
   "metadata": {},
   "outputs": [
    {
     "name": "stdout",
     "output_type": "stream",
     "text": [
      "yfinance.Ticker object <MSFT>\n"
     ]
    }
   ],
   "source": [
    "msft = yf.Ticker(\"MSFT\")\n",
    "print(msft)"
   ]
  },
  {
   "cell_type": "code",
   "execution_count": 5,
   "id": "56fe4269",
   "metadata": {},
   "outputs": [
    {
     "data": {
      "text/plain": [
       "{'zip': '98052-6399',\n",
       " 'sector': 'Technology',\n",
       " 'fullTimeEmployees': 181000,\n",
       " 'longBusinessSummary': 'Microsoft Corporation develops, licenses, and supports software, services, devices, and solutions worldwide. Its Productivity and Business Processes segment offers Office, Exchange, SharePoint, Microsoft Teams, Office 365 Security and Compliance, and Skype for Business, as well as related Client Access Licenses (CAL); Skype, Outlook.com, OneDrive, and LinkedIn; and Dynamics 365, a set of cloud-based and on-premises business solutions for organizations and enterprise divisions. Its Intelligent Cloud segment licenses SQL, Windows Servers, Visual Studio, System Center, and related CALs; GitHub that provides a collaboration platform and code hosting service for developers; and Azure, a cloud platform. It also offers support services and Microsoft consulting services to assist customers in developing, deploying, and managing Microsoft server and desktop solutions; and training and certification on Microsoft products. Its More Personal Computing segment provides Windows original equipment manufacturer (OEM) licensing and other non-volume licensing of the Windows operating system; Windows Commercial, such as volume licensing of the Windows operating system, Windows cloud services, and other Windows commercial offerings; patent licensing; Windows Internet of Things; and MSN advertising. It also offers Surface, PC accessories, PCs, tablets, gaming and entertainment consoles, and other devices; Gaming, including Xbox hardware, and Xbox content and services; video games and third-party video game royalties; and Search, including Bing and Microsoft advertising. It sells its products through OEMs, distributors, and resellers; and directly through digital marketplaces, online stores, and retail stores. It has collaborations with Dynatrace, Inc., Morgan Stanley, Micro Focus, WPP plc, ACI Worldwide, Inc., and iCIMS, Inc., as well as strategic relationships with Avaya Holdings Corp. and wejo Limited. Microsoft Corporation was founded in 1975 and is based in Redmond, Washington.',\n",
       " 'city': 'Redmond',\n",
       " 'phone': '425 882 8080',\n",
       " 'state': 'WA',\n",
       " 'country': 'United States',\n",
       " 'companyOfficers': [],\n",
       " 'website': 'http://www.microsoft.com',\n",
       " 'maxAge': 1,\n",
       " 'address1': 'One Microsoft Way',\n",
       " 'industry': 'Software—Infrastructure',\n",
       " 'ebitdaMargins': 0.48648998,\n",
       " 'profitMargins': 0.38515,\n",
       " 'grossMargins': 0.68864995,\n",
       " 'operatingCashflow': 81945001984,\n",
       " 'revenueGrowth': 0.22,\n",
       " 'operatingMargins': 0.42143002,\n",
       " 'ebitda': 85745000448,\n",
       " 'targetLowPrice': 299.93,\n",
       " 'recommendationKey': 'buy',\n",
       " 'grossProfits': 115856000000,\n",
       " 'freeCashflow': 49819750400,\n",
       " 'targetMedianPrice': 360,\n",
       " 'currentPrice': 333.21,\n",
       " 'earningsGrowth': 0.489,\n",
       " 'currentRatio': 2.165,\n",
       " 'returnOnAssets': 0.14589,\n",
       " 'numberOfAnalystOpinions': 38,\n",
       " 'targetMeanPrice': 357.27,\n",
       " 'debtToEquity': 51.938,\n",
       " 'returnOnEquity': 0.49303,\n",
       " 'targetHighPrice': 407,\n",
       " 'totalCash': 130584002560,\n",
       " 'totalDebt': 78934999040,\n",
       " 'totalRevenue': 176250994688,\n",
       " 'totalCashPerShare': 17.393,\n",
       " 'financialCurrency': 'USD',\n",
       " 'revenuePerShare': 23.395,\n",
       " 'quickRatio': 1.961,\n",
       " 'recommendationMean': 1.6,\n",
       " 'exchange': 'NMS',\n",
       " 'shortName': 'Microsoft Corporation',\n",
       " 'longName': 'Microsoft Corporation',\n",
       " 'exchangeTimezoneName': 'America/New_York',\n",
       " 'exchangeTimezoneShortName': 'EDT',\n",
       " 'isEsgPopulated': False,\n",
       " 'gmtOffSetMilliseconds': '-14400000',\n",
       " 'quoteType': 'EQUITY',\n",
       " 'symbol': 'MSFT',\n",
       " 'messageBoardId': 'finmb_21835',\n",
       " 'market': 'us_market',\n",
       " 'annualHoldingsTurnover': None,\n",
       " 'enterpriseToRevenue': 13.898,\n",
       " 'beta3Year': None,\n",
       " 'enterpriseToEbitda': 28.567,\n",
       " '52WeekChange': 0.5394889,\n",
       " 'morningStarRiskRating': None,\n",
       " 'forwardEps': 10.51,\n",
       " 'revenueQuarterlyGrowth': None,\n",
       " 'sharesOutstanding': 7507979776,\n",
       " 'fundInceptionDate': None,\n",
       " 'annualReportExpenseRatio': None,\n",
       " 'totalAssets': None,\n",
       " 'bookValue': 20.242,\n",
       " 'sharesShort': 48556022,\n",
       " 'sharesPercentSharesOut': 0.0064999997,\n",
       " 'fundFamily': None,\n",
       " 'lastFiscalYearEnd': 1625011200,\n",
       " 'heldPercentInstitutions': 0.71928,\n",
       " 'netIncomeToCommon': 67882999808,\n",
       " 'trailingEps': 8.939,\n",
       " 'lastDividendValue': 0.56,\n",
       " 'SandP52WeekChange': 0.34477437,\n",
       " 'priceToBook': 16.461317,\n",
       " 'heldPercentInsiders': 0.0008,\n",
       " 'nextFiscalYearEnd': 1688083200,\n",
       " 'yield': None,\n",
       " 'mostRecentQuarter': 1632960000,\n",
       " 'shortRatio': 1.86,\n",
       " 'sharesShortPreviousMonthDate': 1631664000,\n",
       " 'floatShares': 7500172144,\n",
       " 'beta': 0.802645,\n",
       " 'enterpriseValue': 2449484546048,\n",
       " 'priceHint': 2,\n",
       " 'threeYearAverageReturn': None,\n",
       " 'lastSplitDate': 1045526400,\n",
       " 'lastSplitFactor': '2:1',\n",
       " 'legalType': None,\n",
       " 'lastDividendDate': 1629244800,\n",
       " 'morningStarOverallRating': None,\n",
       " 'earningsQuarterlyGrowth': 0.476,\n",
       " 'priceToSalesTrailing12Months': 14.194154,\n",
       " 'dateShortInterest': 1634256000,\n",
       " 'pegRatio': 2.23,\n",
       " 'ytdReturn': None,\n",
       " 'forwardPE': 31.70409,\n",
       " 'lastCapGain': None,\n",
       " 'shortPercentOfFloat': 0.0064999997,\n",
       " 'sharesShortPriorMonth': 44204519,\n",
       " 'impliedSharesOutstanding': None,\n",
       " 'category': None,\n",
       " 'fiveYearAverageReturn': None,\n",
       " 'previousClose': 333.13,\n",
       " 'regularMarketOpen': 333.9,\n",
       " 'twoHundredDayAverage': 279.7316,\n",
       " 'trailingAnnualDividendYield': 0.0069042114,\n",
       " 'payoutRatio': 0.25059998,\n",
       " 'volume24Hr': None,\n",
       " 'regularMarketDayHigh': 334.0091,\n",
       " 'navPrice': None,\n",
       " 'averageDailyVolume10Day': 30404971,\n",
       " 'regularMarketPreviousClose': 333.13,\n",
       " 'fiftyDayAverage': 302.13306,\n",
       " 'trailingAnnualDividendRate': 2.3,\n",
       " 'open': 333.9,\n",
       " 'toCurrency': None,\n",
       " 'averageVolume10days': 30404971,\n",
       " 'expireDate': None,\n",
       " 'algorithm': None,\n",
       " 'dividendRate': 2.48,\n",
       " 'exDividendDate': 1637107200,\n",
       " 'circulatingSupply': None,\n",
       " 'startDate': None,\n",
       " 'regularMarketDayLow': 330.65,\n",
       " 'currency': 'USD',\n",
       " 'trailingPE': 37.27598,\n",
       " 'regularMarketVolume': 12058537,\n",
       " 'lastMarket': None,\n",
       " 'maxSupply': None,\n",
       " 'openInterest': None,\n",
       " 'marketCap': 2501733777408,\n",
       " 'volumeAllCurrencies': None,\n",
       " 'strikePrice': None,\n",
       " 'averageVolume': 23044572,\n",
       " 'dayLow': 330.65,\n",
       " 'ask': 333.41,\n",
       " 'askSize': 1100,\n",
       " 'volume': 12058537,\n",
       " 'fiftyTwoWeekHigh': 334.0091,\n",
       " 'fromCurrency': None,\n",
       " 'fiveYearAvgDividendYield': 1.45,\n",
       " 'fiftyTwoWeekLow': 208.16,\n",
       " 'bid': 333.38,\n",
       " 'tradeable': False,\n",
       " 'dividendYield': 0.0074,\n",
       " 'bidSize': 1200,\n",
       " 'dayHigh': 334.0091,\n",
       " 'regularMarketPrice': 333.21,\n",
       " 'preMarketPrice': 333.95,\n",
       " 'logo_url': 'https://logo.clearbit.com/microsoft.com'}"
      ]
     },
     "execution_count": 5,
     "metadata": {},
     "output_type": "execute_result"
    }
   ],
   "source": [
    "msft.info"
   ]
  },
  {
   "cell_type": "code",
   "execution_count": null,
   "id": "5d72cc7c",
   "metadata": {},
   "outputs": [],
   "source": []
  },
  {
   "cell_type": "code",
   "execution_count": 2,
   "id": "ebad493d",
   "metadata": {
    "scrolled": true
   },
   "outputs": [
    {
     "ename": "NameError",
     "evalue": "name 'yf' is not defined",
     "output_type": "error",
     "traceback": [
      "\u001b[0;31m---------------------------------------------------------------------------\u001b[0m",
      "\u001b[0;31mNameError\u001b[0m                                 Traceback (most recent call last)",
      "\u001b[0;32m<ipython-input-2-19e59bf4d24f>\u001b[0m in \u001b[0;36m<module>\u001b[0;34m\u001b[0m\n\u001b[0;32m----> 1\u001b[0;31m \u001b[0mdata\u001b[0m \u001b[0;34m=\u001b[0m \u001b[0myf\u001b[0m\u001b[0;34m.\u001b[0m\u001b[0mdownload\u001b[0m\u001b[0;34m(\u001b[0m\u001b[0;34m\"GME\"\u001b[0m\u001b[0;34m,\u001b[0m \u001b[0mstart\u001b[0m\u001b[0;34m=\u001b[0m\u001b[0;34m\"2021-01-01\"\u001b[0m\u001b[0;34m,\u001b[0m \u001b[0mend\u001b[0m\u001b[0;34m=\u001b[0m\u001b[0;34m\"2021-04-30\"\u001b[0m\u001b[0;34m)\u001b[0m\u001b[0;34m\u001b[0m\u001b[0;34m\u001b[0m\u001b[0m\n\u001b[0m",
      "\u001b[0;31mNameError\u001b[0m: name 'yf' is not defined"
     ]
    }
   ],
   "source": [
    "data = yf.download(\"GME\", start=\"2021-01-01\", end=\"2021-04-30\")"
   ]
  },
  {
   "cell_type": "code",
   "execution_count": 15,
   "id": "db756ede",
   "metadata": {},
   "outputs": [
    {
     "name": "stdout",
     "output_type": "stream",
     "text": [
      "<class 'pandas.core.frame.DataFrame'>\n"
     ]
    }
   ],
   "source": [
    "print(type(data))"
   ]
  },
  {
   "cell_type": "code",
   "execution_count": 6,
   "id": "968e48ec",
   "metadata": {},
   "outputs": [],
   "source": [
    "def get_info_for_company(company_name):\n",
    "    data = yf.download(company_name, start=\"2020-09-28\", end =\"2021-08-16\")\n",
    "    return data"
   ]
  },
  {
   "cell_type": "code",
   "execution_count": 23,
   "id": "ba00a843",
   "metadata": {},
   "outputs": [
    {
     "name": "stdout",
     "output_type": "stream",
     "text": [
      "[*********************100%***********************]  1 of 1 completed\n",
      "222\n"
     ]
    }
   ],
   "source": [
    "data = get_info_for_company(\"MSFT\")\n",
    "#2020-10-03\n",
    "#print(data)\n",
    "\n",
    "#print(data.loc[\"2021-08-12\", :])\n",
    "print(len(data))"
   ]
  },
  {
   "cell_type": "code",
   "execution_count": 30,
   "id": "04f6ba59",
   "metadata": {},
   "outputs": [
    {
     "data": {
      "text/plain": [
       "Index(['Open', 'High', 'Low', 'Close', 'Adj Close', 'Volume'], dtype='object')"
      ]
     },
     "execution_count": 30,
     "metadata": {},
     "output_type": "execute_result"
    }
   ],
   "source": [
    "data.columns"
   ]
  },
  {
   "cell_type": "code",
   "execution_count": 31,
   "id": "70c11010",
   "metadata": {},
   "outputs": [
    {
     "data": {
      "text/html": [
       "<div>\n",
       "<style scoped>\n",
       "    .dataframe tbody tr th:only-of-type {\n",
       "        vertical-align: middle;\n",
       "    }\n",
       "\n",
       "    .dataframe tbody tr th {\n",
       "        vertical-align: top;\n",
       "    }\n",
       "\n",
       "    .dataframe thead th {\n",
       "        text-align: right;\n",
       "    }\n",
       "</style>\n",
       "<table border=\"1\" class=\"dataframe\">\n",
       "  <thead>\n",
       "    <tr style=\"text-align: right;\">\n",
       "      <th></th>\n",
       "      <th>Open</th>\n",
       "      <th>High</th>\n",
       "      <th>Low</th>\n",
       "      <th>Close</th>\n",
       "      <th>Adj Close</th>\n",
       "      <th>Volume</th>\n",
       "    </tr>\n",
       "    <tr>\n",
       "      <th>Date</th>\n",
       "      <th></th>\n",
       "      <th></th>\n",
       "      <th></th>\n",
       "      <th></th>\n",
       "      <th></th>\n",
       "      <th></th>\n",
       "    </tr>\n",
       "  </thead>\n",
       "  <tbody>\n",
       "    <tr>\n",
       "      <th>2020-09-28</th>\n",
       "      <td>210.880005</td>\n",
       "      <td>212.570007</td>\n",
       "      <td>208.059998</td>\n",
       "      <td>209.440002</td>\n",
       "      <td>207.535675</td>\n",
       "      <td>32004900</td>\n",
       "    </tr>\n",
       "    <tr>\n",
       "      <th>2020-09-29</th>\n",
       "      <td>209.350006</td>\n",
       "      <td>210.070007</td>\n",
       "      <td>206.809998</td>\n",
       "      <td>207.259995</td>\n",
       "      <td>205.375458</td>\n",
       "      <td>24221900</td>\n",
       "    </tr>\n",
       "    <tr>\n",
       "      <th>2020-09-30</th>\n",
       "      <td>207.729996</td>\n",
       "      <td>211.979996</td>\n",
       "      <td>206.539993</td>\n",
       "      <td>210.330002</td>\n",
       "      <td>208.417557</td>\n",
       "      <td>33829100</td>\n",
       "    </tr>\n",
       "    <tr>\n",
       "      <th>2020-10-01</th>\n",
       "      <td>213.490005</td>\n",
       "      <td>213.990005</td>\n",
       "      <td>211.320007</td>\n",
       "      <td>212.460007</td>\n",
       "      <td>210.528198</td>\n",
       "      <td>27158400</td>\n",
       "    </tr>\n",
       "    <tr>\n",
       "      <th>2020-10-02</th>\n",
       "      <td>208.000000</td>\n",
       "      <td>210.990005</td>\n",
       "      <td>205.539993</td>\n",
       "      <td>206.190002</td>\n",
       "      <td>204.315201</td>\n",
       "      <td>33154800</td>\n",
       "    </tr>\n",
       "  </tbody>\n",
       "</table>\n",
       "</div>"
      ],
      "text/plain": [
       "                  Open        High         Low       Close   Adj Close  \\\n",
       "Date                                                                     \n",
       "2020-09-28  210.880005  212.570007  208.059998  209.440002  207.535675   \n",
       "2020-09-29  209.350006  210.070007  206.809998  207.259995  205.375458   \n",
       "2020-09-30  207.729996  211.979996  206.539993  210.330002  208.417557   \n",
       "2020-10-01  213.490005  213.990005  211.320007  212.460007  210.528198   \n",
       "2020-10-02  208.000000  210.990005  205.539993  206.190002  204.315201   \n",
       "\n",
       "              Volume  \n",
       "Date                  \n",
       "2020-09-28  32004900  \n",
       "2020-09-29  24221900  \n",
       "2020-09-30  33829100  \n",
       "2020-10-01  27158400  \n",
       "2020-10-02  33154800  "
      ]
     },
     "execution_count": 31,
     "metadata": {},
     "output_type": "execute_result"
    }
   ],
   "source": [
    "data.head()"
   ]
  },
  {
   "cell_type": "code",
   "execution_count": 35,
   "id": "452c7e91",
   "metadata": {},
   "outputs": [],
   "source": [
    "def get_weekly_differences(data):\n",
    "    date_time_str_start = \"2020-09-28\"\n",
    "    date_time_str_end = \"2021-08-16\"\n",
    "    start = datetime.strptime(date_time_str_start, '%Y-%m-%d')\n",
    "    end = datetime.strptime(date_time_str_end, '%Y-%m-%d')\n",
    "    result = []\n",
    "    while start < end:\n",
    "        max_stock = 0\n",
    "        min_stock = 0\n",
    "        index = 0\n",
    "        while index < 7:\n",
    "            if start in data.index:\n",
    "                current = data.loc[start, :]\n",
    "                max_stock = max(max_stock, current['High'])\n",
    "                mim_stock = max(max_stock, current['Low'])\n",
    "            index += 1\n",
    "            new_start = start + timedelta(days=1)\n",
    "            start = new_start\n",
    "        diff = max_stock - min_stock\n",
    "        result.append(diff)\n",
    "\n",
    "    return result"
   ]
  },
  {
   "cell_type": "code",
   "execution_count": 37,
   "id": "3f4aa7bc",
   "metadata": {},
   "outputs": [
    {
     "name": "stdout",
     "output_type": "stream",
     "text": [
      "[*********************100%***********************]  1 of 1 completed\n",
      "[213.99000549316406, 215.86000061035156, 225.2100067138672, 222.3000030517578, 216.33999633789062, 224.36000061035156, 228.1199951171875, 217.74000549316406, 216.27000427246094, 217.32000732421875, 216.9499969482422, 220.88999938964844, 225.6300048828125, 227.17999267578125, 223.0, 218.91000366210938, 230.07000732421875, 242.63999938964844, 245.08999633789062, 245.9199981689453, 246.1300048828125, 237.92999267578125, 237.47000122070312, 239.1699981689453, 240.05999755859375, 241.0500030517578, 242.83999633789062, 255.99000549316406, 261.0, 261.7799987792969, 263.19000244140625, 254.35000610351562, 251.72999572753906, 248.3300018310547, 252.94000244140625, 251.64999389648438, 258.489990234375, 262.29998779296875, 267.8500061035156, 278.0, 280.69000244140625, 284.1000061035156, 289.989990234375, 290.1499938964844, 289.6300048828125, 292.8999938964844]\n"
     ]
    }
   ],
   "source": [
    "data = get_info_for_company(\"MSFT\")\n",
    "data_list = get_weekly_differences(data)\n",
    "print(data_list)"
   ]
  }
 ],
 "metadata": {
  "kernelspec": {
   "display_name": "Python 3",
   "language": "python",
   "name": "python3"
  }
 },
 "nbformat": 4,
 "nbformat_minor": 5
}
